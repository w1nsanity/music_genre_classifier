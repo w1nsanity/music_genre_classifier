{
 "cells": [
  {
   "cell_type": "markdown",
   "metadata": {
    "id": "6SMW93RNli5S"
   },
   "source": [
    "# Music Genre Classification - Part 2"
   ]
  },
  {
   "cell_type": "code",
   "execution_count": 1,
   "metadata": {
    "id": "ID78Fqkcpxc9"
   },
   "outputs": [],
   "source": [
    "import json\n",
    "import numpy as np\n",
    "from sklearn.model_selection import train_test_split\n",
    "import tensorflow.keras as keras\n",
    "\n",
    "import matplotlib.pyplot as plt\n",
    "import random\n",
    "\n",
    "import librosa\n",
    "import math"
   ]
  },
  {
   "cell_type": "markdown",
   "metadata": {
    "id": "iye51T8plo6i"
   },
   "source": [
    "### Load Data"
   ]
  },
  {
   "cell_type": "code",
   "execution_count": 2,
   "metadata": {
    "id": "h4fRJzNtp45z"
   },
   "outputs": [],
   "source": [
    "# path to json\n",
    "DATA_PATH = \"data_10.json\""
   ]
  },
  {
   "cell_type": "code",
   "execution_count": 3,
   "metadata": {
    "id": "059z2uzvqW-Y"
   },
   "outputs": [],
   "source": [
    "def load_data(data_path):\n",
    "\n",
    "    with open(data_path, \"r\") as f:\n",
    "        data = json.load(f)\n",
    "\n",
    "    # convert lists to numpy arrays\n",
    "    X = np.array(data[\"mfcc\"])\n",
    "    y = np.array(data[\"labels\"])\n",
    "\n",
    "    print(\"Data succesfully loaded!\")\n",
    "\n",
    "    return  X, y"
   ]
  },
  {
   "cell_type": "code",
   "execution_count": 4,
   "metadata": {
    "colab": {
     "base_uri": "https://localhost:8080/"
    },
    "id": "lP_oCaTxqnqM",
    "outputId": "29a492b6-ca6e-4e17-d932-6d049129773c"
   },
   "outputs": [
    {
     "name": "stdout",
     "output_type": "stream",
     "text": [
      "Data succesfully loaded!\n"
     ]
    }
   ],
   "source": [
    "# load data\n",
    "X, y = load_data(DATA_PATH)"
   ]
  },
  {
   "cell_type": "code",
   "execution_count": 5,
   "metadata": {
    "colab": {
     "base_uri": "https://localhost:8080/"
    },
    "id": "Al8hSpEbywdF",
    "outputId": "cf989da4-3aa8-4128-c588-ed10ca30038a"
   },
   "outputs": [
    {
     "data": {
      "text/plain": [
       "(9986, 130, 13)"
      ]
     },
     "execution_count": 5,
     "metadata": {},
     "output_type": "execute_result"
    }
   ],
   "source": [
    "X.shape"
   ]
  },
  {
   "cell_type": "code",
   "execution_count": 6,
   "metadata": {
    "id": "LGbKepVKtlaO"
   },
   "outputs": [],
   "source": [
    "# create train/test split\n",
    "X_train, X_test, y_train, y_test = train_test_split(X, y, test_size=0.3)"
   ]
  },
  {
   "cell_type": "markdown",
   "metadata": {
    "id": "vL6wMRpUluUr"
   },
   "source": [
    "### Simple ANN"
   ]
  },
  {
   "cell_type": "code",
   "execution_count": 7,
   "metadata": {
    "id": "DWYJ9rNYyngy"
   },
   "outputs": [],
   "source": [
    "# build network topology\n",
    "model = keras.Sequential([\n",
    "\n",
    "    # input layer\n",
    "    keras.layers.Flatten(input_shape=(X.shape[1], X.shape[2])),\n",
    "\n",
    "    # 1st dense layer\n",
    "    keras.layers.Dense(512, activation='relu'),\n",
    "\n",
    "    # 2nd dense layer\n",
    "    keras.layers.Dense(256, activation='relu'),\n",
    "\n",
    "    # 3rd dense layer\n",
    "    keras.layers.Dense(64, activation='relu'),\n",
    "\n",
    "    # output layer\n",
    "    keras.layers.Dense(10, activation='softmax')\n",
    "])"
   ]
  },
  {
   "cell_type": "code",
   "execution_count": 8,
   "metadata": {
    "id": "_vAj93EpzNcW"
   },
   "outputs": [],
   "source": [
    "# compile model\n",
    "optimiser = keras.optimizers.Adam(learning_rate=0.0001)\n",
    "model.compile(optimizer=optimiser,\n",
    "              loss='sparse_categorical_crossentropy',\n",
    "              metrics=['accuracy'])"
   ]
  },
  {
   "cell_type": "code",
   "execution_count": 9,
   "metadata": {
    "id": "UVC-Y4O5zRWt"
   },
   "outputs": [
    {
     "name": "stdout",
     "output_type": "stream",
     "text": [
      "Model: \"sequential\"\n",
      "_________________________________________________________________\n",
      " Layer (type)                Output Shape              Param #   \n",
      "=================================================================\n",
      " flatten (Flatten)           (None, 1690)              0         \n",
      "                                                                 \n",
      " dense (Dense)               (None, 512)               865792    \n",
      "                                                                 \n",
      " dense_1 (Dense)             (None, 256)               131328    \n",
      "                                                                 \n",
      " dense_2 (Dense)             (None, 64)                16448     \n",
      "                                                                 \n",
      " dense_3 (Dense)             (None, 10)                650       \n",
      "                                                                 \n",
      "=================================================================\n",
      "Total params: 1,014,218\n",
      "Trainable params: 1,014,218\n",
      "Non-trainable params: 0\n",
      "_________________________________________________________________\n"
     ]
    }
   ],
   "source": [
    "model.summary()"
   ]
  },
  {
   "cell_type": "code",
   "execution_count": 10,
   "metadata": {
    "id": "A3fzdo4BzUzU"
   },
   "outputs": [
    {
     "name": "stdout",
     "output_type": "stream",
     "text": [
      "Epoch 1/50\n",
      "219/219 [==============================] - 4s 15ms/step - loss: 8.0976 - accuracy: 0.3041 - val_loss: 3.3091 - val_accuracy: 0.3728\n",
      "Epoch 2/50\n",
      "219/219 [==============================] - 3s 14ms/step - loss: 2.5328 - accuracy: 0.3820 - val_loss: 2.5434 - val_accuracy: 0.3672\n",
      "Epoch 3/50\n",
      "219/219 [==============================] - 3s 14ms/step - loss: 1.8984 - accuracy: 0.4363 - val_loss: 2.2789 - val_accuracy: 0.3989\n",
      "Epoch 4/50\n",
      "219/219 [==============================] - 3s 14ms/step - loss: 1.6235 - accuracy: 0.4821 - val_loss: 2.2280 - val_accuracy: 0.4119\n",
      "Epoch 5/50\n",
      "219/219 [==============================] - 3s 15ms/step - loss: 1.3789 - accuracy: 0.5386 - val_loss: 2.0692 - val_accuracy: 0.4292\n",
      "Epoch 6/50\n",
      "219/219 [==============================] - 3s 15ms/step - loss: 1.2399 - accuracy: 0.5863 - val_loss: 2.0711 - val_accuracy: 0.4503\n",
      "Epoch 7/50\n",
      "219/219 [==============================] - 3s 14ms/step - loss: 1.0964 - accuracy: 0.6199 - val_loss: 2.1570 - val_accuracy: 0.4546\n",
      "Epoch 8/50\n",
      "219/219 [==============================] - 3s 15ms/step - loss: 1.0178 - accuracy: 0.6454 - val_loss: 2.1707 - val_accuracy: 0.4479\n",
      "Epoch 9/50\n",
      "219/219 [==============================] - 3s 16ms/step - loss: 0.9162 - accuracy: 0.6825 - val_loss: 2.2398 - val_accuracy: 0.4559\n",
      "Epoch 10/50\n",
      "219/219 [==============================] - 4s 16ms/step - loss: 0.8581 - accuracy: 0.7024 - val_loss: 2.0561 - val_accuracy: 0.4683\n",
      "Epoch 11/50\n",
      "219/219 [==============================] - 3s 15ms/step - loss: 0.7540 - accuracy: 0.7363 - val_loss: 2.1514 - val_accuracy: 0.4753\n",
      "Epoch 12/50\n",
      "219/219 [==============================] - 3s 15ms/step - loss: 0.7159 - accuracy: 0.7464 - val_loss: 2.1561 - val_accuracy: 0.4823\n",
      "Epoch 13/50\n",
      "219/219 [==============================] - 3s 15ms/step - loss: 0.6453 - accuracy: 0.7745 - val_loss: 1.9972 - val_accuracy: 0.5003\n",
      "Epoch 14/50\n",
      "219/219 [==============================] - 3s 15ms/step - loss: 0.5886 - accuracy: 0.7973 - val_loss: 2.2196 - val_accuracy: 0.4800\n",
      "Epoch 15/50\n",
      "219/219 [==============================] - 3s 15ms/step - loss: 0.5828 - accuracy: 0.8013 - val_loss: 2.0955 - val_accuracy: 0.5127\n",
      "Epoch 16/50\n",
      "219/219 [==============================] - 3s 15ms/step - loss: 0.5071 - accuracy: 0.8235 - val_loss: 2.1414 - val_accuracy: 0.5147\n",
      "Epoch 17/50\n",
      "219/219 [==============================] - 3s 15ms/step - loss: 0.4607 - accuracy: 0.8441 - val_loss: 2.3929 - val_accuracy: 0.4880\n",
      "Epoch 18/50\n",
      "219/219 [==============================] - 3s 15ms/step - loss: 0.4331 - accuracy: 0.8524 - val_loss: 2.1107 - val_accuracy: 0.5234\n",
      "Epoch 19/50\n",
      "219/219 [==============================] - 3s 15ms/step - loss: 0.3832 - accuracy: 0.8722 - val_loss: 2.2161 - val_accuracy: 0.4893\n",
      "Epoch 20/50\n",
      "219/219 [==============================] - 3s 15ms/step - loss: 0.3404 - accuracy: 0.8856 - val_loss: 2.1838 - val_accuracy: 0.5350\n",
      "Epoch 21/50\n",
      "219/219 [==============================] - 3s 15ms/step - loss: 0.3723 - accuracy: 0.8755 - val_loss: 2.3920 - val_accuracy: 0.5134\n",
      "Epoch 22/50\n",
      "219/219 [==============================] - 3s 16ms/step - loss: 0.3673 - accuracy: 0.8794 - val_loss: 2.1755 - val_accuracy: 0.5394\n",
      "Epoch 23/50\n",
      "219/219 [==============================] - 4s 17ms/step - loss: 0.2992 - accuracy: 0.8977 - val_loss: 2.3732 - val_accuracy: 0.5227\n",
      "Epoch 24/50\n",
      "219/219 [==============================] - 4s 17ms/step - loss: 0.3205 - accuracy: 0.8916 - val_loss: 2.2772 - val_accuracy: 0.5487\n",
      "Epoch 25/50\n",
      "219/219 [==============================] - 3s 13ms/step - loss: 0.2865 - accuracy: 0.9036 - val_loss: 2.3258 - val_accuracy: 0.5577\n",
      "Epoch 26/50\n",
      "219/219 [==============================] - 3s 13ms/step - loss: 0.2098 - accuracy: 0.9338 - val_loss: 2.3169 - val_accuracy: 0.5491\n",
      "Epoch 27/50\n",
      "219/219 [==============================] - 3s 13ms/step - loss: 0.2133 - accuracy: 0.9313 - val_loss: 2.3828 - val_accuracy: 0.5467\n",
      "Epoch 28/50\n",
      "219/219 [==============================] - 3s 13ms/step - loss: 0.2157 - accuracy: 0.9316 - val_loss: 2.4227 - val_accuracy: 0.5260\n",
      "Epoch 29/50\n",
      "219/219 [==============================] - 3s 13ms/step - loss: 0.1886 - accuracy: 0.9383 - val_loss: 2.4764 - val_accuracy: 0.5447\n",
      "Epoch 30/50\n",
      "219/219 [==============================] - 3s 15ms/step - loss: 0.2166 - accuracy: 0.9299 - val_loss: 2.7052 - val_accuracy: 0.5557\n",
      "Epoch 31/50\n",
      "219/219 [==============================] - 3s 15ms/step - loss: 0.1952 - accuracy: 0.9349 - val_loss: 2.5698 - val_accuracy: 0.5404\n",
      "Epoch 32/50\n",
      "219/219 [==============================] - 3s 15ms/step - loss: 0.2633 - accuracy: 0.9103 - val_loss: 2.4386 - val_accuracy: 0.5658\n",
      "Epoch 33/50\n",
      "219/219 [==============================] - 3s 15ms/step - loss: 0.1467 - accuracy: 0.9535 - val_loss: 2.5015 - val_accuracy: 0.5631\n",
      "Epoch 34/50\n",
      "219/219 [==============================] - 3s 15ms/step - loss: 0.1253 - accuracy: 0.9597 - val_loss: 2.4966 - val_accuracy: 0.5754\n",
      "Epoch 35/50\n",
      "219/219 [==============================] - 3s 15ms/step - loss: 0.1204 - accuracy: 0.9651 - val_loss: 2.7091 - val_accuracy: 0.5581\n",
      "Epoch 36/50\n",
      "219/219 [==============================] - 3s 15ms/step - loss: 0.1524 - accuracy: 0.9492 - val_loss: 2.6125 - val_accuracy: 0.5741\n",
      "Epoch 37/50\n",
      "219/219 [==============================] - 3s 15ms/step - loss: 0.1766 - accuracy: 0.9451 - val_loss: 2.6067 - val_accuracy: 0.5604\n",
      "Epoch 38/50\n",
      "219/219 [==============================] - 3s 16ms/step - loss: 0.1036 - accuracy: 0.9717 - val_loss: 2.8641 - val_accuracy: 0.5607\n",
      "Epoch 39/50\n",
      "219/219 [==============================] - 4s 16ms/step - loss: 0.1461 - accuracy: 0.9538 - val_loss: 3.0203 - val_accuracy: 0.5364\n",
      "Epoch 40/50\n",
      "219/219 [==============================] - 3s 16ms/step - loss: 0.2486 - accuracy: 0.9149 - val_loss: 2.6063 - val_accuracy: 0.5751\n",
      "Epoch 41/50\n",
      "219/219 [==============================] - 3s 15ms/step - loss: 0.0910 - accuracy: 0.9717 - val_loss: 2.5978 - val_accuracy: 0.5808\n",
      "Epoch 42/50\n",
      "219/219 [==============================] - 3s 15ms/step - loss: 0.0426 - accuracy: 0.9903 - val_loss: 2.6737 - val_accuracy: 0.5804\n",
      "Epoch 43/50\n",
      "219/219 [==============================] - 3s 15ms/step - loss: 0.0762 - accuracy: 0.9785 - val_loss: 3.3145 - val_accuracy: 0.5661\n",
      "Epoch 44/50\n",
      "219/219 [==============================] - 3s 16ms/step - loss: 0.1991 - accuracy: 0.9375 - val_loss: 2.8417 - val_accuracy: 0.5761\n",
      "Epoch 45/50\n",
      "219/219 [==============================] - 3s 15ms/step - loss: 0.3170 - accuracy: 0.9059 - val_loss: 2.6140 - val_accuracy: 0.5814\n",
      "Epoch 46/50\n",
      "219/219 [==============================] - 3s 16ms/step - loss: 0.0885 - accuracy: 0.9741 - val_loss: 2.6563 - val_accuracy: 0.5928\n",
      "Epoch 47/50\n",
      "219/219 [==============================] - 3s 16ms/step - loss: 0.0403 - accuracy: 0.9904 - val_loss: 2.5958 - val_accuracy: 0.6038\n",
      "Epoch 48/50\n",
      "219/219 [==============================] - 3s 15ms/step - loss: 0.0237 - accuracy: 0.9959 - val_loss: 2.6641 - val_accuracy: 0.6018\n",
      "Epoch 49/50\n",
      "219/219 [==============================] - 3s 15ms/step - loss: 0.0253 - accuracy: 0.9954 - val_loss: 2.8239 - val_accuracy: 0.5885\n",
      "Epoch 50/50\n",
      "219/219 [==============================] - 4s 16ms/step - loss: 0.0204 - accuracy: 0.9963 - val_loss: 2.7487 - val_accuracy: 0.6041\n"
     ]
    }
   ],
   "source": [
    "# train model\n",
    "history = model.fit(X_train, y_train, validation_data=(X_test, y_test), batch_size=32, epochs=50)"
   ]
  },
  {
   "cell_type": "code",
   "execution_count": 11,
   "metadata": {
    "id": "PmXSb9gTzZU_"
   },
   "outputs": [],
   "source": [
    "def plot_history(history):\n",
    "\n",
    "    fig, axs = plt.subplots(2)\n",
    "\n",
    "    # create accuracy sublpot\n",
    "    axs[0].plot(history.history[\"accuracy\"], label=\"train accuracy\")\n",
    "    axs[0].plot(history.history[\"val_accuracy\"], label=\"test accuracy\")\n",
    "    axs[0].set_ylabel(\"Accuracy\")\n",
    "    axs[0].legend(loc=\"lower right\")\n",
    "    axs[0].set_title(\"Accuracy eval\")\n",
    "\n",
    "    # create error sublpot\n",
    "    axs[1].plot(history.history[\"loss\"], label=\"train error\")\n",
    "    axs[1].plot(history.history[\"val_loss\"], label=\"test error\")\n",
    "    axs[1].set_ylabel(\"Error\")\n",
    "    axs[1].set_xlabel(\"Epoch\")\n",
    "    axs[1].legend(loc=\"upper right\")\n",
    "    axs[1].set_title(\"Error eval\")\n",
    "    \n",
    "    plt.show()"
   ]
  },
  {
   "cell_type": "code",
   "execution_count": 12,
   "metadata": {
    "id": "ZoBk4Ovr7IaI"
   },
   "outputs": [
    {
     "data": {
      "image/png": "[encoded data removed]",
      "text/plain": [
       "<Figure size 640x480 with 2 Axes>"
      ]
     },
     "metadata": {},
     "output_type": "display_data"
    }
   ],
   "source": [
    "# plot accuracy and error as a function of the epochs\n",
    "plot_history(history)"
   ]
  },
  {
   "cell_type": "markdown",
   "metadata": {
    "id": "M1zNljTkl05G"
   },
   "source": [
    "### Managing Overfitting"
   ]
  },
  {
   "cell_type": "code",
   "execution_count": 13,
   "metadata": {
    "id": "drhWRfDF7Ru5"
   },
   "outputs": [],
   "source": [
    "# build network topology\n",
    "model_regularized = keras.Sequential([\n",
    "\n",
    "    # input layer\n",
    "    keras.layers.Flatten(input_shape=(X.shape[1], X.shape[2])),\n",
    "\n",
    "    # 1st dense layer\n",
    "    keras.layers.Dense(512, activation='relu', kernel_regularizer=keras.regularizers.l2(0.001)),\n",
    "    keras.layers.Dropout(0.3),\n",
    "\n",
    "    # 2nd dense layer\n",
    "    keras.layers.Dense(256, activation='relu', kernel_regularizer=keras.regularizers.l2(0.001)),\n",
    "    keras.layers.Dropout(0.3),\n",
    "\n",
    "    # 3rd dense layer\n",
    "    keras.layers.Dense(64, activation='relu', kernel_regularizer=keras.regularizers.l2(0.001)),\n",
    "    keras.layers.Dropout(0.3),\n",
    "\n",
    "    # output layer\n",
    "    keras.layers.Dense(10, activation='softmax')\n",
    "])"
   ]
  },
  {
   "cell_type": "code",
   "execution_count": 14,
   "metadata": {
    "id": "9izNLSrG8j-9"
   },
   "outputs": [],
   "source": [
    "# compile model\n",
    "optimiser = keras.optimizers.Adam(learning_rate=0.0001)\n",
    "model_regularized.compile(optimizer=optimiser,\n",
    "              loss='sparse_categorical_crossentropy',\n",
    "              metrics=['accuracy'])"
   ]
  },
  {
   "cell_type": "code",
   "execution_count": 15,
   "metadata": {
    "id": "Uzjpg8Rk8uFr",
    "scrolled": true
   },
   "outputs": [
    {
     "name": "stdout",
     "output_type": "stream",
     "text": [
      "Epoch 1/100\n",
      "219/219 [==============================] - 6s 19ms/step - loss: 26.2771 - accuracy: 0.1740 - val_loss: 3.7320 - val_accuracy: 0.2737\n",
      "Epoch 2/100\n",
      "219/219 [==============================] - 4s 17ms/step - loss: 7.6498 - accuracy: 0.1874 - val_loss: 3.3510 - val_accuracy: 0.1939\n",
      "Epoch 3/100\n",
      "219/219 [==============================] - 4s 17ms/step - loss: 4.9783 - accuracy: 0.1751 - val_loss: 3.4184 - val_accuracy: 0.1562\n",
      "Epoch 4/100\n",
      "219/219 [==============================] - 4s 17ms/step - loss: 4.1897 - accuracy: 0.1677 - val_loss: 3.4329 - val_accuracy: 0.1499\n",
      "Epoch 5/100\n",
      "219/219 [==============================] - 4s 18ms/step - loss: 3.8776 - accuracy: 0.1608 - val_loss: 3.3716 - val_accuracy: 0.1769\n",
      "Epoch 6/100\n",
      "219/219 [==============================] - 4s 17ms/step - loss: 3.6448 - accuracy: 0.1811 - val_loss: 3.3633 - val_accuracy: 0.1786\n",
      "Epoch 7/100\n",
      "219/219 [==============================] - 4s 18ms/step - loss: 3.5372 - accuracy: 0.1750 - val_loss: 3.3264 - val_accuracy: 0.1886\n",
      "Epoch 8/100\n",
      "219/219 [==============================] - 4s 18ms/step - loss: 3.4638 - accuracy: 0.1938 - val_loss: 3.3323 - val_accuracy: 0.1772\n",
      "Epoch 9/100\n",
      "219/219 [==============================] - 4s 18ms/step - loss: 3.4376 - accuracy: 0.1843 - val_loss: 3.2715 - val_accuracy: 0.1969\n",
      "Epoch 10/100\n",
      "219/219 [==============================] - 4s 18ms/step - loss: 3.3843 - accuracy: 0.1994 - val_loss: 3.3153 - val_accuracy: 0.1872\n",
      "Epoch 11/100\n",
      "219/219 [==============================] - 4s 18ms/step - loss: 3.3729 - accuracy: 0.1999 - val_loss: 3.2455 - val_accuracy: 0.2136\n",
      "Epoch 12/100\n",
      "219/219 [==============================] - 4s 18ms/step - loss: 3.3024 - accuracy: 0.2134 - val_loss: 3.2075 - val_accuracy: 0.2303\n",
      "Epoch 13/100\n",
      "219/219 [==============================] - 4s 17ms/step - loss: 3.2853 - accuracy: 0.2116 - val_loss: 3.1775 - val_accuracy: 0.2360\n",
      "Epoch 14/100\n",
      "219/219 [==============================] - 4s 17ms/step - loss: 3.2720 - accuracy: 0.2259 - val_loss: 3.1839 - val_accuracy: 0.2493\n",
      "Epoch 15/100\n",
      "219/219 [==============================] - 4s 18ms/step - loss: 3.2209 - accuracy: 0.2515 - val_loss: 3.1350 - val_accuracy: 0.2680\n",
      "Epoch 16/100\n",
      "219/219 [==============================] - 4s 19ms/step - loss: 3.2088 - accuracy: 0.2585 - val_loss: 3.1155 - val_accuracy: 0.2687\n",
      "Epoch 17/100\n",
      "219/219 [==============================] - 4s 19ms/step - loss: 3.1572 - accuracy: 0.2732 - val_loss: 3.0815 - val_accuracy: 0.3024\n",
      "Epoch 18/100\n",
      "219/219 [==============================] - 4s 18ms/step - loss: 3.1139 - accuracy: 0.2973 - val_loss: 3.0265 - val_accuracy: 0.3158\n",
      "Epoch 19/100\n",
      "219/219 [==============================] - 4s 18ms/step - loss: 3.1016 - accuracy: 0.2911 - val_loss: 3.0276 - val_accuracy: 0.3074\n",
      "Epoch 20/100\n",
      "219/219 [==============================] - 4s 17ms/step - loss: 3.0630 - accuracy: 0.2973 - val_loss: 2.9653 - val_accuracy: 0.3491\n",
      "Epoch 21/100\n",
      "219/219 [==============================] - 4s 18ms/step - loss: 3.0286 - accuracy: 0.3120 - val_loss: 2.8637 - val_accuracy: 0.3892\n",
      "Epoch 22/100\n",
      "219/219 [==============================] - 4s 17ms/step - loss: 2.9979 - accuracy: 0.3155 - val_loss: 2.8595 - val_accuracy: 0.3832\n",
      "Epoch 23/100\n",
      "219/219 [==============================] - 4s 17ms/step - loss: 2.9490 - accuracy: 0.3313 - val_loss: 2.8339 - val_accuracy: 0.3895\n",
      "Epoch 24/100\n",
      "219/219 [==============================] - 4s 18ms/step - loss: 2.9270 - accuracy: 0.3335 - val_loss: 2.8643 - val_accuracy: 0.3621\n",
      "Epoch 25/100\n",
      "219/219 [==============================] - 4s 17ms/step - loss: 2.9009 - accuracy: 0.3335 - val_loss: 2.7998 - val_accuracy: 0.3925\n",
      "Epoch 26/100\n",
      "219/219 [==============================] - 4s 17ms/step - loss: 2.8603 - accuracy: 0.3388 - val_loss: 2.7679 - val_accuracy: 0.3792\n",
      "Epoch 27/100\n",
      "219/219 [==============================] - 4s 17ms/step - loss: 2.8282 - accuracy: 0.3479 - val_loss: 2.7466 - val_accuracy: 0.4005\n",
      "Epoch 28/100\n",
      "219/219 [==============================] - 4s 17ms/step - loss: 2.8098 - accuracy: 0.3405 - val_loss: 2.7308 - val_accuracy: 0.3909\n",
      "Epoch 29/100\n",
      "219/219 [==============================] - 4s 17ms/step - loss: 2.7581 - accuracy: 0.3607 - val_loss: 2.7113 - val_accuracy: 0.4055\n",
      "Epoch 30/100\n",
      "219/219 [==============================] - 4s 17ms/step - loss: 2.7319 - accuracy: 0.3624 - val_loss: 2.6766 - val_accuracy: 0.3952\n",
      "Epoch 31/100\n",
      "219/219 [==============================] - 4s 18ms/step - loss: 2.7052 - accuracy: 0.3634 - val_loss: 2.6352 - val_accuracy: 0.4049\n",
      "Epoch 32/100\n",
      "219/219 [==============================] - 4s 18ms/step - loss: 2.6780 - accuracy: 0.3685 - val_loss: 2.6203 - val_accuracy: 0.4119\n",
      "Epoch 33/100\n",
      "219/219 [==============================] - 4s 18ms/step - loss: 2.6323 - accuracy: 0.3798 - val_loss: 2.5844 - val_accuracy: 0.4209\n",
      "Epoch 34/100\n",
      "219/219 [==============================] - 4s 17ms/step - loss: 2.5926 - accuracy: 0.3734 - val_loss: 2.5611 - val_accuracy: 0.4095\n",
      "Epoch 35/100\n",
      "219/219 [==============================] - 4s 17ms/step - loss: 2.5604 - accuracy: 0.3815 - val_loss: 2.5725 - val_accuracy: 0.3929\n",
      "Epoch 36/100\n",
      "219/219 [==============================] - 4s 18ms/step - loss: 2.5419 - accuracy: 0.3857 - val_loss: 2.5168 - val_accuracy: 0.4306\n",
      "Epoch 37/100\n",
      "219/219 [==============================] - 4s 18ms/step - loss: 2.5009 - accuracy: 0.3926 - val_loss: 2.4858 - val_accuracy: 0.4206\n",
      "Epoch 38/100\n",
      "219/219 [==============================] - 4s 19ms/step - loss: 2.4620 - accuracy: 0.3934 - val_loss: 2.4262 - val_accuracy: 0.4366\n",
      "Epoch 39/100\n",
      "219/219 [==============================] - 4s 18ms/step - loss: 2.4003 - accuracy: 0.4142 - val_loss: 2.3981 - val_accuracy: 0.4383\n",
      "Epoch 40/100\n",
      "219/219 [==============================] - 4s 18ms/step - loss: 2.3681 - accuracy: 0.4196 - val_loss: 2.3826 - val_accuracy: 0.4409\n",
      "Epoch 41/100\n",
      "219/219 [==============================] - 4s 18ms/step - loss: 2.3623 - accuracy: 0.4223 - val_loss: 2.3345 - val_accuracy: 0.4566\n",
      "Epoch 42/100\n",
      "219/219 [==============================] - 4s 17ms/step - loss: 2.3333 - accuracy: 0.4275 - val_loss: 2.3010 - val_accuracy: 0.4716\n",
      "Epoch 43/100\n",
      "219/219 [==============================] - 4s 19ms/step - loss: 2.2748 - accuracy: 0.4411 - val_loss: 2.3347 - val_accuracy: 0.4489\n",
      "Epoch 44/100\n",
      "219/219 [==============================] - 4s 18ms/step - loss: 2.2475 - accuracy: 0.4412 - val_loss: 2.2693 - val_accuracy: 0.4589\n",
      "Epoch 45/100\n",
      "219/219 [==============================] - 4s 17ms/step - loss: 2.1986 - accuracy: 0.4511 - val_loss: 2.2374 - val_accuracy: 0.4806\n",
      "Epoch 46/100\n",
      "219/219 [==============================] - 4s 17ms/step - loss: 2.1670 - accuracy: 0.4618 - val_loss: 2.2320 - val_accuracy: 0.4746\n",
      "Epoch 47/100\n",
      "219/219 [==============================] - 4s 17ms/step - loss: 2.1153 - accuracy: 0.4665 - val_loss: 2.2312 - val_accuracy: 0.4887\n",
      "Epoch 48/100\n",
      "219/219 [==============================] - 4s 17ms/step - loss: 2.0948 - accuracy: 0.4805 - val_loss: 2.1651 - val_accuracy: 0.4630\n",
      "Epoch 49/100\n",
      "219/219 [==============================] - 4s 17ms/step - loss: 2.0634 - accuracy: 0.4824 - val_loss: 2.1449 - val_accuracy: 0.4923\n",
      "Epoch 50/100\n",
      "219/219 [==============================] - 4s 17ms/step - loss: 2.0094 - accuracy: 0.5006 - val_loss: 2.1496 - val_accuracy: 0.4927\n",
      "Epoch 51/100\n",
      "219/219 [==============================] - 4s 18ms/step - loss: 1.9952 - accuracy: 0.4934 - val_loss: 2.1126 - val_accuracy: 0.5023\n",
      "Epoch 52/100\n",
      "219/219 [==============================] - 4s 19ms/step - loss: 1.9529 - accuracy: 0.5114 - val_loss: 2.1277 - val_accuracy: 0.4977\n",
      "Epoch 53/100\n",
      "219/219 [==============================] - 4s 17ms/step - loss: 1.9343 - accuracy: 0.5031 - val_loss: 2.0657 - val_accuracy: 0.4957\n",
      "Epoch 54/100\n",
      "219/219 [==============================] - 4s 18ms/step - loss: 1.8965 - accuracy: 0.5090 - val_loss: 2.0571 - val_accuracy: 0.4927\n",
      "Epoch 55/100\n",
      "219/219 [==============================] - 4s 17ms/step - loss: 1.8912 - accuracy: 0.5109 - val_loss: 2.0522 - val_accuracy: 0.4947\n",
      "Epoch 56/100\n",
      "219/219 [==============================] - 4s 17ms/step - loss: 1.8633 - accuracy: 0.5160 - val_loss: 2.0227 - val_accuracy: 0.5000\n",
      "Epoch 57/100\n",
      "219/219 [==============================] - 4s 17ms/step - loss: 1.8246 - accuracy: 0.5363 - val_loss: 2.0149 - val_accuracy: 0.4993\n",
      "Epoch 58/100\n",
      "219/219 [==============================] - 4s 17ms/step - loss: 1.7665 - accuracy: 0.5471 - val_loss: 1.9977 - val_accuracy: 0.5130\n",
      "Epoch 59/100\n",
      "219/219 [==============================] - 4s 17ms/step - loss: 1.7615 - accuracy: 0.5385 - val_loss: 2.0029 - val_accuracy: 0.4953\n",
      "Epoch 60/100\n",
      "219/219 [==============================] - 4s 17ms/step - loss: 1.7252 - accuracy: 0.5519 - val_loss: 1.9929 - val_accuracy: 0.4953\n",
      "Epoch 61/100\n",
      "219/219 [==============================] - 4s 18ms/step - loss: 1.7139 - accuracy: 0.5528 - val_loss: 1.9290 - val_accuracy: 0.5184\n",
      "Epoch 62/100\n",
      "219/219 [==============================] - 4s 18ms/step - loss: 1.6980 - accuracy: 0.5589 - val_loss: 1.9203 - val_accuracy: 0.5150\n",
      "Epoch 63/100\n",
      "219/219 [==============================] - 4s 18ms/step - loss: 1.6556 - accuracy: 0.5727 - val_loss: 1.9878 - val_accuracy: 0.5217\n",
      "Epoch 64/100\n",
      "219/219 [==============================] - 4s 17ms/step - loss: 1.6417 - accuracy: 0.5674 - val_loss: 1.8992 - val_accuracy: 0.5187\n",
      "Epoch 65/100\n",
      "219/219 [==============================] - 4s 17ms/step - loss: 1.6081 - accuracy: 0.5767 - val_loss: 1.9301 - val_accuracy: 0.5030\n",
      "Epoch 66/100\n",
      "219/219 [==============================] - 4s 17ms/step - loss: 1.6014 - accuracy: 0.5755 - val_loss: 1.8979 - val_accuracy: 0.5327\n",
      "Epoch 67/100\n",
      "219/219 [==============================] - 4s 17ms/step - loss: 1.5848 - accuracy: 0.5897 - val_loss: 1.8771 - val_accuracy: 0.5297\n",
      "Epoch 68/100\n",
      "219/219 [==============================] - 4s 17ms/step - loss: 1.5232 - accuracy: 0.6009 - val_loss: 1.8730 - val_accuracy: 0.5391\n",
      "Epoch 69/100\n",
      "219/219 [==============================] - 4s 17ms/step - loss: 1.5278 - accuracy: 0.5947 - val_loss: 1.8921 - val_accuracy: 0.5254\n",
      "Epoch 70/100\n",
      "219/219 [==============================] - 4s 18ms/step - loss: 1.5113 - accuracy: 0.6112 - val_loss: 1.8496 - val_accuracy: 0.5417\n",
      "Epoch 71/100\n",
      "219/219 [==============================] - 4s 17ms/step - loss: 1.5018 - accuracy: 0.6016 - val_loss: 1.8828 - val_accuracy: 0.5290\n",
      "Epoch 72/100\n",
      "219/219 [==============================] - 4s 18ms/step - loss: 1.4670 - accuracy: 0.6139 - val_loss: 1.8450 - val_accuracy: 0.5464\n",
      "Epoch 73/100\n",
      "219/219 [==============================] - 4s 18ms/step - loss: 1.4454 - accuracy: 0.6205 - val_loss: 1.8237 - val_accuracy: 0.5364\n",
      "Epoch 74/100\n",
      "219/219 [==============================] - 4s 19ms/step - loss: 1.4480 - accuracy: 0.6187 - val_loss: 1.8473 - val_accuracy: 0.5404\n",
      "Epoch 75/100\n",
      "219/219 [==============================] - 4s 18ms/step - loss: 1.4134 - accuracy: 0.6283 - val_loss: 1.8660 - val_accuracy: 0.5257\n",
      "Epoch 76/100\n",
      "219/219 [==============================] - 4s 19ms/step - loss: 1.4182 - accuracy: 0.6186 - val_loss: 1.8282 - val_accuracy: 0.5534\n",
      "Epoch 77/100\n",
      "219/219 [==============================] - 4s 17ms/step - loss: 1.3988 - accuracy: 0.6270 - val_loss: 1.7948 - val_accuracy: 0.5467\n",
      "Epoch 78/100\n",
      "219/219 [==============================] - 4s 17ms/step - loss: 1.3494 - accuracy: 0.6416 - val_loss: 1.8560 - val_accuracy: 0.5481\n",
      "Epoch 79/100\n",
      "219/219 [==============================] - 4s 17ms/step - loss: 1.3499 - accuracy: 0.6393 - val_loss: 1.8346 - val_accuracy: 0.5471\n",
      "Epoch 80/100\n",
      "219/219 [==============================] - 4s 17ms/step - loss: 1.3205 - accuracy: 0.6568 - val_loss: 1.8452 - val_accuracy: 0.5534\n",
      "Epoch 81/100\n",
      "219/219 [==============================] - 4s 17ms/step - loss: 1.3238 - accuracy: 0.6468 - val_loss: 1.7935 - val_accuracy: 0.5384\n",
      "Epoch 82/100\n",
      "219/219 [==============================] - 4s 17ms/step - loss: 1.3153 - accuracy: 0.6519 - val_loss: 1.8652 - val_accuracy: 0.5487\n",
      "Epoch 83/100\n",
      "219/219 [==============================] - 4s 18ms/step - loss: 1.2861 - accuracy: 0.6594 - val_loss: 1.8335 - val_accuracy: 0.5491\n",
      "Epoch 84/100\n",
      "219/219 [==============================] - 4s 18ms/step - loss: 1.2745 - accuracy: 0.6647 - val_loss: 1.8508 - val_accuracy: 0.5514\n",
      "Epoch 85/100\n",
      "219/219 [==============================] - 4s 18ms/step - loss: 1.2567 - accuracy: 0.6700 - val_loss: 1.8387 - val_accuracy: 0.5521\n",
      "Epoch 86/100\n",
      "219/219 [==============================] - 4s 16ms/step - loss: 1.2440 - accuracy: 0.6691 - val_loss: 1.8327 - val_accuracy: 0.5607\n",
      "Epoch 87/100\n",
      "219/219 [==============================] - 3s 15ms/step - loss: 1.2370 - accuracy: 0.6768 - val_loss: 1.8051 - val_accuracy: 0.5634\n",
      "Epoch 88/100\n",
      "219/219 [==============================] - 3s 15ms/step - loss: 1.2131 - accuracy: 0.6803 - val_loss: 1.8271 - val_accuracy: 0.5641\n",
      "Epoch 89/100\n",
      "219/219 [==============================] - 3s 15ms/step - loss: 1.2072 - accuracy: 0.6815 - val_loss: 1.8201 - val_accuracy: 0.5454\n",
      "Epoch 90/100\n",
      "219/219 [==============================] - 3s 15ms/step - loss: 1.2047 - accuracy: 0.6837 - val_loss: 1.8034 - val_accuracy: 0.5641\n",
      "Epoch 91/100\n",
      "219/219 [==============================] - 3s 15ms/step - loss: 1.1750 - accuracy: 0.6956 - val_loss: 1.8200 - val_accuracy: 0.5761\n",
      "Epoch 92/100\n",
      "219/219 [==============================] - 3s 15ms/step - loss: 1.1696 - accuracy: 0.6960 - val_loss: 1.8324 - val_accuracy: 0.5524\n",
      "Epoch 93/100\n",
      "219/219 [==============================] - 3s 15ms/step - loss: 1.1567 - accuracy: 0.6933 - val_loss: 1.7847 - val_accuracy: 0.5628\n",
      "Epoch 94/100\n",
      "219/219 [==============================] - 3s 15ms/step - loss: 1.1450 - accuracy: 0.6956 - val_loss: 1.8058 - val_accuracy: 0.5651\n",
      "Epoch 95/100\n",
      "219/219 [==============================] - 3s 15ms/step - loss: 1.1285 - accuracy: 0.7001 - val_loss: 1.7941 - val_accuracy: 0.5661\n",
      "Epoch 96/100\n",
      "219/219 [==============================] - 3s 15ms/step - loss: 1.1139 - accuracy: 0.7099 - val_loss: 1.8349 - val_accuracy: 0.5701\n",
      "Epoch 97/100\n",
      "219/219 [==============================] - 3s 15ms/step - loss: 1.1104 - accuracy: 0.7070 - val_loss: 1.8414 - val_accuracy: 0.5671\n",
      "Epoch 98/100\n",
      "219/219 [==============================] - 3s 15ms/step - loss: 1.0963 - accuracy: 0.7139 - val_loss: 1.8304 - val_accuracy: 0.5668\n",
      "Epoch 99/100\n",
      "219/219 [==============================] - 3s 15ms/step - loss: 1.1062 - accuracy: 0.7063 - val_loss: 1.8056 - val_accuracy: 0.5644\n",
      "Epoch 100/100\n",
      "219/219 [==============================] - 3s 15ms/step - loss: 1.1056 - accuracy: 0.7047 - val_loss: 1.8083 - val_accuracy: 0.5761\n"
     ]
    }
   ],
   "source": [
    "# train model\n",
    "history = model_regularized.fit(X_train, y_train, validation_data=(X_test, y_test), batch_size=32, epochs=100)"
   ]
  },
  {
   "cell_type": "code",
   "execution_count": 16,
   "metadata": {
    "id": "h4mNmGka-eFQ"
   },
   "outputs": [
    {
     "data": {
      "image/png": "[encoded data removed]",
      "text/plain": [
       "<Figure size 640x480 with 2 Axes>"
      ]
     },
     "metadata": {},
     "output_type": "display_data"
    }
   ],
   "source": [
    "# plot accuracy and error as a function of the epochs\n",
    "plot_history(history)"
   ]
  },
  {
   "cell_type": "markdown",
   "metadata": {
    "id": "qR5YHT5gNUGQ"
   },
   "source": [
    "# Convolutional Neural Network"
   ]
  },
  {
   "cell_type": "code",
   "execution_count": 17,
   "metadata": {
    "id": "TIkf5MElBSpN"
   },
   "outputs": [],
   "source": [
    "# create train, validation and test split\n",
    "X_train, X_test, y_train, y_test = train_test_split(X, y, test_size=0.25)\n",
    "X_train, X_validation, y_train, y_validation = train_test_split(X_train, y_train, test_size=0.2)\n",
    "\n",
    "# add an axis to input sets\n",
    "X_train = X_train[..., np.newaxis]\n",
    "X_validation = X_validation[..., np.newaxis]\n",
    "X_test = X_test[..., np.newaxis]"
   ]
  },
  {
   "cell_type": "code",
   "execution_count": 18,
   "metadata": {
    "colab": {
     "base_uri": "https://localhost:8080/"
    },
    "id": "2MLdNQdzSIao",
    "outputId": "f205142f-12ce-474a-a666-553512d71ba6"
   },
   "outputs": [
    {
     "data": {
      "text/plain": [
       "(5991, 130, 13, 1)"
      ]
     },
     "execution_count": 18,
     "metadata": {},
     "output_type": "execute_result"
    }
   ],
   "source": [
    "X_train.shape"
   ]
  },
  {
   "cell_type": "code",
   "execution_count": 19,
   "metadata": {
    "id": "8Q5qLVFtMh1E"
   },
   "outputs": [],
   "source": [
    "input_shape = (X_train.shape[1], X_train.shape[2], 1)"
   ]
  },
  {
   "cell_type": "code",
   "execution_count": 20,
   "metadata": {
    "id": "odglabSpLDm2"
   },
   "outputs": [],
   "source": [
    "# build the CNN\n",
    "model_cnn = keras.Sequential()\n",
    "\n",
    "# 1st conv layer\n",
    "model_cnn.add(keras.layers.Conv2D(32, (3, 3), activation='relu', input_shape=input_shape))\n",
    "model_cnn.add(keras.layers.MaxPooling2D((3, 3), strides=(2, 2), padding='same'))\n",
    "model_cnn.add(keras.layers.BatchNormalization())\n",
    "\n",
    "# 2nd conv layer\n",
    "model_cnn.add(keras.layers.Conv2D(32, (3, 3), activation='relu'))\n",
    "model_cnn.add(keras.layers.MaxPooling2D((3, 3), strides=(2, 2), padding='same'))\n",
    "model_cnn.add(keras.layers.BatchNormalization())\n",
    "\n",
    "# 3rd conv layer\n",
    "model_cnn.add(keras.layers.Conv2D(32, (2, 2), activation='relu'))\n",
    "model_cnn.add(keras.layers.MaxPooling2D((2, 2), strides=(2, 2), padding='same'))\n",
    "model_cnn.add(keras.layers.BatchNormalization())\n",
    "\n",
    "# flatten output and feed it into dense layer\n",
    "model_cnn.add(keras.layers.Flatten())\n",
    "model_cnn.add(keras.layers.Dense(64, activation='relu'))\n",
    "model_cnn.add(keras.layers.Dropout(0.3))\n",
    "\n",
    "# output layer\n",
    "model_cnn.add(keras.layers.Dense(10, activation='softmax'))"
   ]
  },
  {
   "cell_type": "code",
   "execution_count": 21,
   "metadata": {
    "id": "cSpAxo7hMjJv"
   },
   "outputs": [],
   "source": [
    "# compile model\n",
    "optimiser = keras.optimizers.Adam(learning_rate=0.0001)\n",
    "model_cnn.compile(optimizer=optimiser,\n",
    "              loss='sparse_categorical_crossentropy',\n",
    "              metrics=['accuracy'])"
   ]
  },
  {
   "cell_type": "code",
   "execution_count": 22,
   "metadata": {
    "colab": {
     "base_uri": "https://localhost:8080/"
    },
    "id": "2guylBT6Mq38",
    "outputId": "aa4800e5-2775-44e8-ef28-946059b4d31f"
   },
   "outputs": [
    {
     "name": "stdout",
     "output_type": "stream",
     "text": [
      "Model: \"sequential_2\"\n",
      "_________________________________________________________________\n",
      " Layer (type)                Output Shape              Param #   \n",
      "=================================================================\n",
      " conv2d (Conv2D)             (None, 128, 11, 32)       320       \n",
      "                                                                 \n",
      " max_pooling2d (MaxPooling2D  (None, 64, 6, 32)        0         \n",
      " )                                                               \n",
      "                                                                 \n",
      " batch_normalization (BatchN  (None, 64, 6, 32)        128       \n",
      " ormalization)                                                   \n",
      "                                                                 \n",
      " conv2d_1 (Conv2D)           (None, 62, 4, 32)         9248      \n",
      "                                                                 \n",
      " max_pooling2d_1 (MaxPooling  (None, 31, 2, 32)        0         \n",
      " 2D)                                                             \n",
      "                                                                 \n",
      " batch_normalization_1 (Batc  (None, 31, 2, 32)        128       \n",
      " hNormalization)                                                 \n",
      "                                                                 \n",
      " conv2d_2 (Conv2D)           (None, 30, 1, 32)         4128      \n",
      "                                                                 \n",
      " max_pooling2d_2 (MaxPooling  (None, 15, 1, 32)        0         \n",
      " 2D)                                                             \n",
      "                                                                 \n",
      " batch_normalization_2 (Batc  (None, 15, 1, 32)        128       \n",
      " hNormalization)                                                 \n",
      "                                                                 \n",
      " flatten_2 (Flatten)         (None, 480)               0         \n",
      "                                                                 \n",
      " dense_8 (Dense)             (None, 64)                30784     \n",
      "                                                                 \n",
      " dropout_3 (Dropout)         (None, 64)                0         \n",
      "                                                                 \n",
      " dense_9 (Dense)             (None, 10)                650       \n",
      "                                                                 \n",
      "=================================================================\n",
      "Total params: 45,514\n",
      "Trainable params: 45,322\n",
      "Non-trainable params: 192\n",
      "_________________________________________________________________\n"
     ]
    }
   ],
   "source": [
    "model_cnn.summary()"
   ]
  },
  {
   "cell_type": "code",
   "execution_count": 23,
   "metadata": {
    "colab": {
     "base_uri": "https://localhost:8080/"
    },
    "id": "lDuRqI6MNi85",
    "outputId": "b95ff98e-2f7c-4e1f-d88d-ea6587137ebc"
   },
   "outputs": [
    {
     "name": "stdout",
     "output_type": "stream",
     "text": [
      "Epoch 1/100\n",
      "188/188 [==============================] - 8s 33ms/step - loss: 2.3254 - accuracy: 0.2487 - val_loss: 1.8435 - val_accuracy: 0.3565\n",
      "Epoch 2/100\n",
      "188/188 [==============================] - 6s 31ms/step - loss: 1.8933 - accuracy: 0.3487 - val_loss: 1.6127 - val_accuracy: 0.4312\n",
      "Epoch 3/100\n",
      "188/188 [==============================] - 6s 31ms/step - loss: 1.6982 - accuracy: 0.4031 - val_loss: 1.4848 - val_accuracy: 0.4786\n",
      "Epoch 4/100\n",
      "188/188 [==============================] - 6s 31ms/step - loss: 1.5961 - accuracy: 0.4311 - val_loss: 1.4130 - val_accuracy: 0.4907\n",
      "Epoch 5/100\n",
      "188/188 [==============================] - 6s 32ms/step - loss: 1.5128 - accuracy: 0.4657 - val_loss: 1.3419 - val_accuracy: 0.5334\n",
      "Epoch 6/100\n",
      "188/188 [==============================] - 6s 31ms/step - loss: 1.4373 - accuracy: 0.4794 - val_loss: 1.3258 - val_accuracy: 0.5254\n",
      "Epoch 7/100\n",
      "188/188 [==============================] - 6s 32ms/step - loss: 1.3581 - accuracy: 0.5181 - val_loss: 1.2634 - val_accuracy: 0.5494\n",
      "Epoch 8/100\n",
      "188/188 [==============================] - 6s 32ms/step - loss: 1.3128 - accuracy: 0.5341 - val_loss: 1.2175 - val_accuracy: 0.5648\n",
      "Epoch 9/100\n",
      "188/188 [==============================] - 6s 31ms/step - loss: 1.2713 - accuracy: 0.5485 - val_loss: 1.1799 - val_accuracy: 0.5841\n",
      "Epoch 10/100\n",
      "188/188 [==============================] - 6s 32ms/step - loss: 1.2244 - accuracy: 0.5655 - val_loss: 1.1643 - val_accuracy: 0.5895\n",
      "Epoch 11/100\n",
      "188/188 [==============================] - 6s 32ms/step - loss: 1.1766 - accuracy: 0.5854 - val_loss: 1.1340 - val_accuracy: 0.5955\n",
      "Epoch 12/100\n",
      "188/188 [==============================] - 6s 32ms/step - loss: 1.1473 - accuracy: 0.5977 - val_loss: 1.0935 - val_accuracy: 0.6288\n",
      "Epoch 13/100\n",
      "188/188 [==============================] - 6s 32ms/step - loss: 1.1120 - accuracy: 0.6044 - val_loss: 1.0685 - val_accuracy: 0.6248\n",
      "Epoch 14/100\n",
      "188/188 [==============================] - 6s 32ms/step - loss: 1.0864 - accuracy: 0.6139 - val_loss: 1.0406 - val_accuracy: 0.6469\n",
      "Epoch 15/100\n",
      "188/188 [==============================] - 6s 33ms/step - loss: 1.0564 - accuracy: 0.6356 - val_loss: 1.0301 - val_accuracy: 0.6435\n",
      "Epoch 16/100\n",
      "188/188 [==============================] - 6s 34ms/step - loss: 1.0258 - accuracy: 0.6371 - val_loss: 1.0128 - val_accuracy: 0.6509\n",
      "Epoch 17/100\n",
      "188/188 [==============================] - 6s 32ms/step - loss: 1.0059 - accuracy: 0.6393 - val_loss: 0.9838 - val_accuracy: 0.6696\n",
      "Epoch 18/100\n",
      "188/188 [==============================] - 6s 34ms/step - loss: 0.9855 - accuracy: 0.6548 - val_loss: 0.9823 - val_accuracy: 0.6676\n",
      "Epoch 19/100\n",
      "188/188 [==============================] - 6s 31ms/step - loss: 0.9428 - accuracy: 0.6693 - val_loss: 0.9624 - val_accuracy: 0.6816\n",
      "Epoch 20/100\n",
      "188/188 [==============================] - 6s 32ms/step - loss: 0.9261 - accuracy: 0.6777 - val_loss: 0.9440 - val_accuracy: 0.6762\n",
      "Epoch 21/100\n",
      "188/188 [==============================] - 6s 31ms/step - loss: 0.8984 - accuracy: 0.6845 - val_loss: 0.9377 - val_accuracy: 0.6876\n",
      "Epoch 22/100\n",
      "188/188 [==============================] - 6s 31ms/step - loss: 0.8851 - accuracy: 0.6845 - val_loss: 0.9413 - val_accuracy: 0.6869\n",
      "Epoch 23/100\n",
      "188/188 [==============================] - 6s 31ms/step - loss: 0.8634 - accuracy: 0.7004 - val_loss: 0.9111 - val_accuracy: 0.6869\n",
      "Epoch 24/100\n",
      "188/188 [==============================] - 6s 33ms/step - loss: 0.8557 - accuracy: 0.6977 - val_loss: 0.9443 - val_accuracy: 0.6829\n",
      "Epoch 25/100\n",
      "188/188 [==============================] - 6s 31ms/step - loss: 0.8294 - accuracy: 0.7124 - val_loss: 0.8807 - val_accuracy: 0.6996\n",
      "Epoch 26/100\n",
      "188/188 [==============================] - 6s 32ms/step - loss: 0.8004 - accuracy: 0.7239 - val_loss: 0.8858 - val_accuracy: 0.7056\n",
      "Epoch 27/100\n",
      "188/188 [==============================] - 6s 32ms/step - loss: 0.8036 - accuracy: 0.7147 - val_loss: 0.8650 - val_accuracy: 0.7089\n",
      "Epoch 28/100\n",
      "188/188 [==============================] - 6s 32ms/step - loss: 0.7812 - accuracy: 0.7333 - val_loss: 0.8481 - val_accuracy: 0.7163\n",
      "Epoch 29/100\n",
      "188/188 [==============================] - 6s 32ms/step - loss: 0.7676 - accuracy: 0.7333 - val_loss: 0.8552 - val_accuracy: 0.7183\n",
      "Epoch 30/100\n",
      "188/188 [==============================] - 6s 31ms/step - loss: 0.7250 - accuracy: 0.7493 - val_loss: 0.8515 - val_accuracy: 0.7270\n",
      "Epoch 31/100\n",
      "188/188 [==============================] - 6s 32ms/step - loss: 0.7239 - accuracy: 0.7495 - val_loss: 0.8463 - val_accuracy: 0.7183\n",
      "Epoch 32/100\n",
      "188/188 [==============================] - 6s 32ms/step - loss: 0.7225 - accuracy: 0.7460 - val_loss: 0.8366 - val_accuracy: 0.7283\n",
      "Epoch 33/100\n",
      "188/188 [==============================] - 6s 32ms/step - loss: 0.7124 - accuracy: 0.7551 - val_loss: 0.8244 - val_accuracy: 0.7230\n",
      "Epoch 34/100\n",
      "188/188 [==============================] - 6s 32ms/step - loss: 0.6864 - accuracy: 0.7630 - val_loss: 0.8450 - val_accuracy: 0.7183\n",
      "Epoch 35/100\n",
      "188/188 [==============================] - 6s 32ms/step - loss: 0.6827 - accuracy: 0.7630 - val_loss: 0.8172 - val_accuracy: 0.7363\n",
      "Epoch 36/100\n",
      "188/188 [==============================] - 6s 32ms/step - loss: 0.6622 - accuracy: 0.7646 - val_loss: 0.8442 - val_accuracy: 0.7190\n",
      "Epoch 37/100\n",
      "188/188 [==============================] - 6s 31ms/step - loss: 0.6522 - accuracy: 0.7658 - val_loss: 0.8387 - val_accuracy: 0.7196\n",
      "Epoch 38/100\n",
      "188/188 [==============================] - 6s 32ms/step - loss: 0.6245 - accuracy: 0.7897 - val_loss: 0.8067 - val_accuracy: 0.7336\n",
      "Epoch 39/100\n",
      "188/188 [==============================] - 6s 32ms/step - loss: 0.6239 - accuracy: 0.7840 - val_loss: 0.8042 - val_accuracy: 0.7350\n",
      "Epoch 40/100\n",
      "188/188 [==============================] - 6s 31ms/step - loss: 0.6209 - accuracy: 0.7850 - val_loss: 0.7915 - val_accuracy: 0.7417\n",
      "Epoch 41/100\n",
      "188/188 [==============================] - 6s 31ms/step - loss: 0.6012 - accuracy: 0.7897 - val_loss: 0.7916 - val_accuracy: 0.7390\n",
      "Epoch 42/100\n",
      "188/188 [==============================] - 6s 32ms/step - loss: 0.5984 - accuracy: 0.7935 - val_loss: 0.7977 - val_accuracy: 0.7417\n",
      "Epoch 43/100\n",
      "188/188 [==============================] - 6s 31ms/step - loss: 0.5906 - accuracy: 0.7900 - val_loss: 0.8224 - val_accuracy: 0.7296\n",
      "Epoch 44/100\n",
      "188/188 [==============================] - 6s 31ms/step - loss: 0.5760 - accuracy: 0.8047 - val_loss: 0.7781 - val_accuracy: 0.7410\n",
      "Epoch 45/100\n",
      "188/188 [==============================] - 6s 31ms/step - loss: 0.5793 - accuracy: 0.7967 - val_loss: 0.8033 - val_accuracy: 0.7417\n",
      "Epoch 46/100\n",
      "188/188 [==============================] - 6s 31ms/step - loss: 0.5517 - accuracy: 0.8084 - val_loss: 0.7697 - val_accuracy: 0.7497\n",
      "Epoch 47/100\n",
      "188/188 [==============================] - 6s 32ms/step - loss: 0.5401 - accuracy: 0.8110 - val_loss: 0.8335 - val_accuracy: 0.7303\n",
      "Epoch 48/100\n",
      "188/188 [==============================] - 6s 34ms/step - loss: 0.5288 - accuracy: 0.8217 - val_loss: 0.7955 - val_accuracy: 0.7410\n",
      "Epoch 49/100\n",
      "188/188 [==============================] - 6s 33ms/step - loss: 0.5359 - accuracy: 0.8136 - val_loss: 0.7805 - val_accuracy: 0.7443\n",
      "Epoch 50/100\n",
      "188/188 [==============================] - 6s 32ms/step - loss: 0.5204 - accuracy: 0.8146 - val_loss: 0.7825 - val_accuracy: 0.7497\n",
      "Epoch 51/100\n",
      "188/188 [==============================] - 6s 32ms/step - loss: 0.5203 - accuracy: 0.8189 - val_loss: 0.7809 - val_accuracy: 0.7470\n",
      "Epoch 52/100\n",
      "188/188 [==============================] - 6s 32ms/step - loss: 0.5129 - accuracy: 0.8222 - val_loss: 0.7786 - val_accuracy: 0.7463\n",
      "Epoch 53/100\n",
      "188/188 [==============================] - 6s 32ms/step - loss: 0.4994 - accuracy: 0.8239 - val_loss: 0.7854 - val_accuracy: 0.7390\n",
      "Epoch 54/100\n",
      "188/188 [==============================] - 6s 32ms/step - loss: 0.5010 - accuracy: 0.8307 - val_loss: 0.7787 - val_accuracy: 0.7363\n",
      "Epoch 55/100\n",
      "188/188 [==============================] - 6s 32ms/step - loss: 0.5004 - accuracy: 0.8242 - val_loss: 0.7697 - val_accuracy: 0.7570\n",
      "Epoch 56/100\n",
      "188/188 [==============================] - 6s 33ms/step - loss: 0.4789 - accuracy: 0.8341 - val_loss: 0.7811 - val_accuracy: 0.7423\n",
      "Epoch 57/100\n",
      "188/188 [==============================] - 6s 31ms/step - loss: 0.4675 - accuracy: 0.8359 - val_loss: 0.7840 - val_accuracy: 0.7303\n",
      "Epoch 58/100\n",
      "188/188 [==============================] - 6s 31ms/step - loss: 0.4657 - accuracy: 0.8403 - val_loss: 0.7901 - val_accuracy: 0.7363\n",
      "Epoch 59/100\n",
      "188/188 [==============================] - 6s 31ms/step - loss: 0.4482 - accuracy: 0.8434 - val_loss: 0.7787 - val_accuracy: 0.7463\n",
      "Epoch 60/100\n",
      "188/188 [==============================] - 6s 31ms/step - loss: 0.4524 - accuracy: 0.8426 - val_loss: 0.8232 - val_accuracy: 0.7296\n",
      "Epoch 61/100\n",
      "188/188 [==============================] - 6s 31ms/step - loss: 0.4289 - accuracy: 0.8539 - val_loss: 0.7859 - val_accuracy: 0.7483\n",
      "Epoch 62/100\n",
      "188/188 [==============================] - 6s 31ms/step - loss: 0.4360 - accuracy: 0.8511 - val_loss: 0.7875 - val_accuracy: 0.7463\n",
      "Epoch 63/100\n",
      "188/188 [==============================] - 6s 31ms/step - loss: 0.4229 - accuracy: 0.8546 - val_loss: 0.7893 - val_accuracy: 0.7470\n",
      "Epoch 64/100\n",
      "188/188 [==============================] - 6s 31ms/step - loss: 0.4285 - accuracy: 0.8538 - val_loss: 0.7751 - val_accuracy: 0.7490\n",
      "Epoch 65/100\n",
      "188/188 [==============================] - 6s 31ms/step - loss: 0.4151 - accuracy: 0.8548 - val_loss: 0.8088 - val_accuracy: 0.7377\n",
      "Epoch 66/100\n",
      "188/188 [==============================] - 6s 31ms/step - loss: 0.4091 - accuracy: 0.8566 - val_loss: 0.7691 - val_accuracy: 0.7550\n",
      "Epoch 67/100\n",
      "188/188 [==============================] - 6s 32ms/step - loss: 0.4137 - accuracy: 0.8544 - val_loss: 0.7714 - val_accuracy: 0.7503\n",
      "Epoch 68/100\n",
      "188/188 [==============================] - 6s 32ms/step - loss: 0.4022 - accuracy: 0.8630 - val_loss: 0.7709 - val_accuracy: 0.7530\n",
      "Epoch 69/100\n",
      "188/188 [==============================] - 6s 33ms/step - loss: 0.3860 - accuracy: 0.8623 - val_loss: 0.7579 - val_accuracy: 0.7623\n",
      "Epoch 70/100\n",
      "188/188 [==============================] - 6s 32ms/step - loss: 0.3921 - accuracy: 0.8656 - val_loss: 0.7953 - val_accuracy: 0.7383\n",
      "Epoch 71/100\n",
      "188/188 [==============================] - 6s 31ms/step - loss: 0.3725 - accuracy: 0.8695 - val_loss: 0.8060 - val_accuracy: 0.7517\n",
      "Epoch 72/100\n",
      "188/188 [==============================] - 6s 31ms/step - loss: 0.3699 - accuracy: 0.8708 - val_loss: 0.7538 - val_accuracy: 0.7543\n",
      "Epoch 73/100\n",
      "188/188 [==============================] - 6s 32ms/step - loss: 0.3682 - accuracy: 0.8766 - val_loss: 0.7904 - val_accuracy: 0.7557\n",
      "Epoch 74/100\n",
      "188/188 [==============================] - 6s 31ms/step - loss: 0.3588 - accuracy: 0.8776 - val_loss: 0.7842 - val_accuracy: 0.7423\n",
      "Epoch 75/100\n",
      "188/188 [==============================] - 6s 32ms/step - loss: 0.3661 - accuracy: 0.8741 - val_loss: 0.7833 - val_accuracy: 0.7557\n",
      "Epoch 76/100\n",
      "188/188 [==============================] - 6s 32ms/step - loss: 0.3452 - accuracy: 0.8843 - val_loss: 0.7870 - val_accuracy: 0.7463\n",
      "Epoch 77/100\n",
      "188/188 [==============================] - 6s 32ms/step - loss: 0.3596 - accuracy: 0.8738 - val_loss: 0.7885 - val_accuracy: 0.7443\n",
      "Epoch 78/100\n",
      "188/188 [==============================] - 6s 32ms/step - loss: 0.3517 - accuracy: 0.8797 - val_loss: 0.8007 - val_accuracy: 0.7490\n",
      "Epoch 79/100\n",
      "188/188 [==============================] - 6s 32ms/step - loss: 0.3306 - accuracy: 0.8848 - val_loss: 0.7775 - val_accuracy: 0.7477\n",
      "Epoch 80/100\n",
      "188/188 [==============================] - 6s 32ms/step - loss: 0.3171 - accuracy: 0.8903 - val_loss: 0.8190 - val_accuracy: 0.7370\n",
      "Epoch 81/100\n",
      "188/188 [==============================] - 6s 31ms/step - loss: 0.3176 - accuracy: 0.8928 - val_loss: 0.8062 - val_accuracy: 0.7490\n",
      "Epoch 82/100\n",
      "188/188 [==============================] - 6s 31ms/step - loss: 0.3338 - accuracy: 0.8873 - val_loss: 0.7934 - val_accuracy: 0.7603\n",
      "Epoch 83/100\n",
      "188/188 [==============================] - 6s 31ms/step - loss: 0.3277 - accuracy: 0.8855 - val_loss: 0.8013 - val_accuracy: 0.7403\n",
      "Epoch 84/100\n",
      "188/188 [==============================] - 6s 32ms/step - loss: 0.3276 - accuracy: 0.8838 - val_loss: 0.8555 - val_accuracy: 0.7383\n",
      "Epoch 85/100\n",
      "188/188 [==============================] - 6s 33ms/step - loss: 0.3150 - accuracy: 0.8907 - val_loss: 0.8392 - val_accuracy: 0.7370\n",
      "Epoch 86/100\n",
      "188/188 [==============================] - 6s 32ms/step - loss: 0.3082 - accuracy: 0.8913 - val_loss: 0.8057 - val_accuracy: 0.7463\n",
      "Epoch 87/100\n",
      "188/188 [==============================] - 6s 33ms/step - loss: 0.2852 - accuracy: 0.9062 - val_loss: 0.8061 - val_accuracy: 0.7437\n",
      "Epoch 88/100\n",
      "188/188 [==============================] - 6s 34ms/step - loss: 0.3065 - accuracy: 0.8953 - val_loss: 0.8046 - val_accuracy: 0.7483\n",
      "Epoch 89/100\n",
      "188/188 [==============================] - 6s 32ms/step - loss: 0.2905 - accuracy: 0.9034 - val_loss: 0.8094 - val_accuracy: 0.7664\n",
      "Epoch 90/100\n",
      "188/188 [==============================] - 6s 32ms/step - loss: 0.2795 - accuracy: 0.9045 - val_loss: 0.8079 - val_accuracy: 0.7503\n",
      "Epoch 91/100\n",
      "188/188 [==============================] - 6s 32ms/step - loss: 0.2778 - accuracy: 0.9087 - val_loss: 0.8029 - val_accuracy: 0.7523\n",
      "Epoch 92/100\n",
      "188/188 [==============================] - 6s 32ms/step - loss: 0.2975 - accuracy: 0.8990 - val_loss: 0.8402 - val_accuracy: 0.7437\n",
      "Epoch 93/100\n",
      "188/188 [==============================] - 6s 32ms/step - loss: 0.2787 - accuracy: 0.9054 - val_loss: 0.8699 - val_accuracy: 0.7417\n",
      "Epoch 94/100\n",
      "188/188 [==============================] - 6s 32ms/step - loss: 0.2838 - accuracy: 0.9062 - val_loss: 0.7984 - val_accuracy: 0.7563\n",
      "Epoch 95/100\n",
      "188/188 [==============================] - 6s 32ms/step - loss: 0.2850 - accuracy: 0.9005 - val_loss: 0.8655 - val_accuracy: 0.7430\n",
      "Epoch 96/100\n",
      "188/188 [==============================] - 6s 32ms/step - loss: 0.2850 - accuracy: 0.9009 - val_loss: 0.8228 - val_accuracy: 0.7577\n",
      "Epoch 97/100\n",
      "188/188 [==============================] - 6s 32ms/step - loss: 0.2666 - accuracy: 0.9095 - val_loss: 0.8430 - val_accuracy: 0.7430\n",
      "Epoch 98/100\n",
      "188/188 [==============================] - 6s 32ms/step - loss: 0.2621 - accuracy: 0.9110 - val_loss: 0.8948 - val_accuracy: 0.7403\n",
      "Epoch 99/100\n",
      "188/188 [==============================] - 6s 32ms/step - loss: 0.2681 - accuracy: 0.9125 - val_loss: 0.7841 - val_accuracy: 0.7590\n",
      "Epoch 100/100\n",
      "188/188 [==============================] - 6s 32ms/step - loss: 0.2587 - accuracy: 0.9124 - val_loss: 0.8328 - val_accuracy: 0.7530\n"
     ]
    }
   ],
   "source": [
    "# train model\n",
    "history = model_cnn.fit(X_train, y_train, validation_data=(X_validation, y_validation), batch_size=32, epochs=100)"
   ]
  },
  {
   "cell_type": "code",
   "execution_count": 24,
   "metadata": {
    "colab": {
     "base_uri": "https://localhost:8080/",
     "height": 295
    },
    "id": "swrhVvauNuQH",
    "outputId": "97c7f20f-faaa-4218-f335-58ff94698ee7"
   },
   "outputs": [
    {
     "data": {
      "image/png": "[encoded data removed]",
      "text/plain": [
       "<Figure size 640x480 with 2 Axes>"
      ]
     },
     "metadata": {},
     "output_type": "display_data"
    }
   ],
   "source": [
    "# plot accuracy and error as a function of the epochs\n",
    "plot_history(history)"
   ]
  },
  {
   "cell_type": "code",
   "execution_count": 27,
   "metadata": {
    "colab": {
     "base_uri": "https://localhost:8080/"
    },
    "id": "9DcEvecoQwCr",
    "outputId": "fee386aa-4d10-41f1-978f-bc90d4d816fd"
   },
   "outputs": [
    {
     "name": "stdout",
     "output_type": "stream",
     "text": [
      "79/79 - 1s - loss: 0.8359 - accuracy: 0.7533 - 736ms/epoch - 9ms/step\n",
      "\n",
      "Test accuracy: 0.7533039450645447\n"
     ]
    }
   ],
   "source": [
    "# evaluate model on Test Set\n",
    "test_loss, test_acc = model_cnn.evaluate(X_test, y_test, verbose=2)\n",
    "print('\\nTest accuracy:', test_acc)"
   ]
  },
  {
   "cell_type": "code",
   "execution_count": 28,
   "metadata": {
    "colab": {
     "base_uri": "https://localhost:8080/"
    },
    "id": "CaYHpkcgZDt5",
    "outputId": "81393682-7053-4762-c2ce-d2095ca92cc3"
   },
   "outputs": [
    {
     "name": "stderr",
     "output_type": "stream",
     "text": [
      "WARNING:absl:Found untraced functions such as _jit_compiled_convolution_op, _jit_compiled_convolution_op, _jit_compiled_convolution_op, _update_step_xla while saving (showing 4 of 4). These functions will not be directly callable after loading.\n"
     ]
    },
    {
     "name": "stdout",
     "output_type": "stream",
     "text": [
      "INFO:tensorflow:Assets written to: Music_Genre_10_CNN\\assets\n"
     ]
    },
    {
     "name": "stderr",
     "output_type": "stream",
     "text": [
      "INFO:tensorflow:Assets written to: Music_Genre_10_CNN\\assets\n"
     ]
    }
   ],
   "source": [
    "model_cnn.save(\"Music_Genre_10_CNN\")"
   ]
  },
  {
   "cell_type": "code",
   "execution_count": 29,
   "metadata": {
    "id": "g3m7ae8KbhgA"
   },
   "outputs": [],
   "source": [
    "model_cnn.save(\"Music_Genre_10_CNN.h5\")"
   ]
  },
  {
   "cell_type": "code",
   "execution_count": 30,
   "metadata": {
    "id": "YcNVvLE7a5zY"
   },
   "outputs": [],
   "source": [
    "# It can be used to reconstruct the model identically.\n",
    "reconstructed_model = keras.models.load_model(\"Music_Genre_10_CNN.h5\")"
   ]
  },
  {
   "cell_type": "markdown",
   "metadata": {
    "id": "amTbobMUl8aT"
   },
   "source": [
    "### Prediction on Test Set"
   ]
  },
  {
   "cell_type": "code",
   "execution_count": 31,
   "metadata": {
    "id": "JoJuudb4SU5Y"
   },
   "outputs": [],
   "source": [
    "# pick a sample to predict from the test set\n",
    "X_to_predict = X_test[100]\n",
    "y_to_predict = y_test[100]"
   ]
  },
  {
   "cell_type": "code",
   "execution_count": 32,
   "metadata": {
    "colab": {
     "base_uri": "https://localhost:8080/"
    },
    "id": "YsekW_GATac2",
    "outputId": "31b515ea-4e5b-49d7-9bc1-f68b048958cd"
   },
   "outputs": [
    {
     "data": {
      "text/plain": [
       "(130, 13, 1)"
      ]
     },
     "execution_count": 32,
     "metadata": {},
     "output_type": "execute_result"
    }
   ],
   "source": [
    "X_to_predict.shape"
   ]
  },
  {
   "cell_type": "code",
   "execution_count": 33,
   "metadata": {
    "colab": {
     "base_uri": "https://localhost:8080/"
    },
    "id": "_1ENPJgMSeVN",
    "outputId": "1c4acb0e-49be-4875-b822-d0e65bd70784"
   },
   "outputs": [
    {
     "name": "stdout",
     "output_type": "stream",
     "text": [
      "Real Genre: 4\n"
     ]
    }
   ],
   "source": [
    "print(\"Real Genre:\", y_to_predict)"
   ]
  },
  {
   "cell_type": "code",
   "execution_count": 34,
   "metadata": {
    "id": "Gu2iSKETTMPu"
   },
   "outputs": [],
   "source": [
    "# add a dimension to input data for sample - model.predict() expects a 4d array in this case\n",
    "X_to_predict = X_to_predict[np.newaxis, ...] # array shape (1, 130, 13, 1)"
   ]
  },
  {
   "cell_type": "code",
   "execution_count": 35,
   "metadata": {
    "colab": {
     "base_uri": "https://localhost:8080/"
    },
    "id": "qMqLO3W8TVfY",
    "outputId": "813d1589-00d9-4858-fa7d-1af221356fc1"
   },
   "outputs": [
    {
     "data": {
      "text/plain": [
       "(1, 130, 13, 1)"
      ]
     },
     "execution_count": 35,
     "metadata": {},
     "output_type": "execute_result"
    }
   ],
   "source": [
    "X_to_predict.shape"
   ]
  },
  {
   "cell_type": "code",
   "execution_count": 36,
   "metadata": {
    "id": "X55e2hN6ShP2"
   },
   "outputs": [
    {
     "name": "stdout",
     "output_type": "stream",
     "text": [
      "1/1 [==============================] - 0s 191ms/step\n"
     ]
    }
   ],
   "source": [
    "# perform prediction\n",
    "prediction = model_cnn.predict(X_to_predict)"
   ]
  },
  {
   "cell_type": "code",
   "execution_count": 37,
   "metadata": {
    "colab": {
     "base_uri": "https://localhost:8080/"
    },
    "id": "jBsKqDXdSzKP",
    "outputId": "0d707bf6-9232-4d53-de3c-f6d5a2c25d61"
   },
   "outputs": [
    {
     "name": "stdout",
     "output_type": "stream",
     "text": [
      "Predicted Genre: 4\n"
     ]
    }
   ],
   "source": [
    "# get index with max value\n",
    "predicted_index = np.argmax(prediction, axis=1)\n",
    "\n",
    "print(\"Predicted Genre:\", int(predicted_index))"
   ]
  },
  {
   "cell_type": "code",
   "execution_count": 38,
   "metadata": {
    "colab": {
     "base_uri": "https://localhost:8080/"
    },
    "id": "MdgbM96ZTr5t",
    "outputId": "da386183-dd5a-449e-832c-e02c9a68f714"
   },
   "outputs": [
    {
     "name": "stdout",
     "output_type": "stream",
     "text": [
      "Real Genre: 7\n",
      "1/1 [==============================] - 0s 38ms/step\n",
      "Predicted Genre: 7\n"
     ]
    }
   ],
   "source": [
    "# pick a sample to predict from the test set\n",
    "X_to_predict = X_test[50]\n",
    "y_to_predict = y_test[50]\n",
    "\n",
    "print(\"Real Genre:\", y_to_predict)\n",
    "\n",
    "X_to_predict = X_to_predict[np.newaxis, ...]\n",
    "\n",
    "prediction = model_cnn.predict(X_to_predict)\n",
    "\n",
    "# get index with max value\n",
    "predicted_index = np.argmax(prediction, axis=1)\n",
    "\n",
    "print(\"Predicted Genre:\", int(predicted_index))"
   ]
  },
  {
   "cell_type": "code",
   "execution_count": 39,
   "metadata": {
    "colab": {
     "base_uri": "https://localhost:8080/"
    },
    "id": "N87pHYBKUC-7",
    "outputId": "e1e2828a-826c-442a-e38e-52578c17b914"
   },
   "outputs": [
    {
     "data": {
      "text/plain": [
       "2497"
      ]
     },
     "execution_count": 39,
     "metadata": {},
     "output_type": "execute_result"
    }
   ],
   "source": [
    "len(X_test)"
   ]
  },
  {
   "cell_type": "code",
   "execution_count": 40,
   "metadata": {
    "colab": {
     "base_uri": "https://localhost:8080/"
    },
    "id": "NmVeofARUrWD",
    "outputId": "57e01080-a57e-4675-c800-f20ccf6c44f2"
   },
   "outputs": [
    {
     "name": "stdout",
     "output_type": "stream",
     "text": [
      "\n",
      "Real Genre: 8\n",
      "1/1 [==============================] - 0s 37ms/step\n",
      "Predicted Genre: 8\n",
      "\n",
      "Real Genre: 1\n",
      "1/1 [==============================] - 0s 28ms/step\n",
      "Predicted Genre: 5\n",
      "\n",
      "Real Genre: 9\n",
      "1/1 [==============================] - 0s 27ms/step\n",
      "Predicted Genre: 3\n",
      "\n",
      "Real Genre: 7\n",
      "1/1 [==============================] - 0s 28ms/step\n",
      "Predicted Genre: 7\n",
      "\n",
      "Real Genre: 0\n",
      "1/1 [==============================] - 0s 32ms/step\n",
      "Predicted Genre: 0\n",
      "\n",
      "Real Genre: 1\n",
      "1/1 [==============================] - 0s 26ms/step\n",
      "Predicted Genre: 1\n",
      "\n",
      "Real Genre: 4\n",
      "1/1 [==============================] - 0s 33ms/step\n",
      "Predicted Genre: 4\n",
      "\n",
      "Real Genre: 0\n",
      "1/1 [==============================] - 0s 32ms/step\n",
      "Predicted Genre: 0\n",
      "\n",
      "Real Genre: 9\n",
      "1/1 [==============================] - 0s 38ms/step\n",
      "Predicted Genre: 9\n",
      "\n",
      "Real Genre: 0\n",
      "1/1 [==============================] - 0s 32ms/step\n",
      "Predicted Genre: 5\n"
     ]
    }
   ],
   "source": [
    "for n in range(10):\n",
    "\n",
    "  i = random.randint(0,len(X_test))\n",
    "  # pick a sample to predict from the test set\n",
    "  X_to_predict = X_test[i]\n",
    "  y_to_predict = y_test[i]\n",
    "\n",
    "  print(\"\\nReal Genre:\", y_to_predict)\n",
    "\n",
    "  X_to_predict = X_to_predict[np.newaxis, ...]\n",
    "\n",
    "  prediction = model_cnn.predict(X_to_predict)\n",
    "\n",
    "  # get index with max value\n",
    "  predicted_index = np.argmax(prediction, axis=1)\n",
    "\n",
    "  print(\"Predicted Genre:\", int(predicted_index))"
   ]
  },
  {
   "cell_type": "markdown",
   "metadata": {
    "id": "M0YXsm8qmDB3"
   },
   "source": [
    "### Prediction on New Songs"
   ]
  },
  {
   "cell_type": "code",
   "execution_count": 44,
   "metadata": {
    "id": "Anx5c-ZAVPDr"
   },
   "outputs": [],
   "source": [
    "# Audio files pre-processing\n",
    "def process_input(audio_file, track_duration):\n",
    "\n",
    "  SAMPLE_RATE = 22050\n",
    "  NUM_MFCC = 13\n",
    "  N_FTT=2048\n",
    "  HOP_LENGTH=512\n",
    "  TRACK_DURATION = track_duration # measured in seconds\n",
    "  SAMPLES_PER_TRACK = SAMPLE_RATE * TRACK_DURATION\n",
    "  NUM_SEGMENTS = 10\n",
    "\n",
    "  samples_per_segment = int(SAMPLES_PER_TRACK / NUM_SEGMENTS)\n",
    "  num_mfcc_vectors_per_segment = math.ceil(samples_per_segment / HOP_LENGTH)\n",
    "\n",
    "  signal, sample_rate = librosa.load(audio_file, sr=SAMPLE_RATE)\n",
    "  \n",
    "  for d in range(10):\n",
    "\n",
    "    # calculate start and finish sample for current segment\n",
    "    start = samples_per_segment * d\n",
    "    finish = start + samples_per_segment\n",
    "\n",
    "    # extract mfcc\n",
    "    mfcc = librosa.feature.mfcc(y=signal[start:finish], sr=sample_rate, n_mfcc=NUM_MFCC, n_fft=N_FTT, hop_length=HOP_LENGTH)\n",
    "    mfcc = mfcc.T\n",
    "\n",
    "    return mfcc"
   ]
  },
  {
   "cell_type": "code",
   "execution_count": 45,
   "metadata": {
    "id": "Kv68iVMTlFMi"
   },
   "outputs": [],
   "source": [
    "genre_dict = {0:\"hiphop\",1:\"country\",2:\"jazz\",3:\"classical\",4:\"metal\",5:\"pop\",6:\"rock\",7:\"blues\",8:\"reggae\",9:\"disco\"}"
   ]
  },
  {
   "cell_type": "code",
   "execution_count": 46,
   "metadata": {
    "colab": {
     "base_uri": "https://localhost:8080/"
    },
    "id": "et20SKZGcdB3",
    "outputId": "c358cad8-6a4a-4dbe-b9c0-290b889f1fe8"
   },
   "outputs": [],
   "source": [
    "new_input_mfcc = process_input(\"eminem-lose-yourself.mp3\", 30)"
   ]
  },
  {
   "cell_type": "code",
   "execution_count": 47,
   "metadata": {
    "colab": {
     "base_uri": "https://localhost:8080/"
    },
    "id": "cgZiyLV6gjEk",
    "outputId": "6c97ab37-21a2-451c-e380-6f44e0ae2045"
   },
   "outputs": [
    {
     "data": {
      "text/plain": [
       "numpy.ndarray"
      ]
     },
     "execution_count": 47,
     "metadata": {},
     "output_type": "execute_result"
    }
   ],
   "source": [
    "type(new_input_mfcc)"
   ]
  },
  {
   "cell_type": "code",
   "execution_count": 48,
   "metadata": {
    "colab": {
     "base_uri": "https://localhost:8080/"
    },
    "id": "ydD7goZKfH6u",
    "outputId": "9c3e8606-fed2-4d12-e692-cc6c44add907"
   },
   "outputs": [
    {
     "data": {
      "text/plain": [
       "(130, 13)"
      ]
     },
     "execution_count": 48,
     "metadata": {},
     "output_type": "execute_result"
    }
   ],
   "source": [
    "new_input_mfcc.shape"
   ]
  },
  {
   "cell_type": "code",
   "execution_count": 49,
   "metadata": {
    "colab": {
     "base_uri": "https://localhost:8080/"
    },
    "id": "ZQPIZq_zgK7q",
    "outputId": "1feead26-cc97-4465-d0c6-cb7309efbf61"
   },
   "outputs": [
    {
     "data": {
      "text/plain": [
       "(1, 130, 13, 1)"
      ]
     },
     "execution_count": 49,
     "metadata": {},
     "output_type": "execute_result"
    }
   ],
   "source": [
    "X_to_predict = new_input_mfcc[np.newaxis, ..., np.newaxis]\n",
    "X_to_predict.shape"
   ]
  },
  {
   "cell_type": "code",
   "execution_count": 50,
   "metadata": {
    "colab": {
     "base_uri": "https://localhost:8080/"
    },
    "id": "9xLY_SWwdOpt",
    "outputId": "98a78524-3c75-424b-d0e1-453a4da3a254"
   },
   "outputs": [
    {
     "name": "stdout",
     "output_type": "stream",
     "text": [
      "1/1 [==============================] - 0s 48ms/step\n",
      "Predicted Genre: country\n"
     ]
    }
   ],
   "source": [
    "prediction = model_cnn.predict(X_to_predict)\n",
    "\n",
    "# get index with max value\n",
    "predicted_index = np.argmax(prediction, axis=1)\n",
    "\n",
    "print(\"Predicted Genre:\", genre_dict[int(predicted_index)])"
   ]
  },
  {
   "cell_type": "code",
   "execution_count": 51,
   "metadata": {
    "colab": {
     "base_uri": "https://localhost:8080/"
    },
    "id": "8Ecm5DRTfic3",
    "outputId": "4791fdf7-1f76-4a8f-ee0c-609e993c5ffa"
   },
   "outputs": [],
   "source": [
    "new_input_mfcc = process_input(\"black-sabbath-paranoid.mp3\", 30)"
   ]
  },
  {
   "cell_type": "code",
   "execution_count": 52,
   "metadata": {
    "colab": {
     "base_uri": "https://localhost:8080/"
    },
    "id": "79emlwPxhZY8",
    "outputId": "c4e6a907-5ba5-4ec9-d653-14c023f237a3"
   },
   "outputs": [
    {
     "data": {
      "text/plain": [
       "(1, 130, 13, 1)"
      ]
     },
     "execution_count": 52,
     "metadata": {},
     "output_type": "execute_result"
    }
   ],
   "source": [
    "X_to_predict = new_input_mfcc[np.newaxis, ..., np.newaxis]\n",
    "X_to_predict.shape"
   ]
  },
  {
   "cell_type": "code",
   "execution_count": 53,
   "metadata": {
    "colab": {
     "base_uri": "https://localhost:8080/"
    },
    "id": "2Ku2oyWqhcoK",
    "outputId": "986e83ec-ca3e-4099-e219-a01cdf98a8fc"
   },
   "outputs": [
    {
     "name": "stdout",
     "output_type": "stream",
     "text": [
      "1/1 [==============================] - 0s 38ms/step\n",
      "Predicted Genre: pop\n"
     ]
    }
   ],
   "source": [
    "prediction = model_cnn.predict(X_to_predict)\n",
    "\n",
    "# get index with max value\n",
    "predicted_index = np.argmax(prediction, axis=1)\n",
    "\n",
    "print(\"Predicted Genre:\", genre_dict[int(predicted_index)])"
   ]
  }
 ],
 "metadata": {
  "colab": {
   "collapsed_sections": [],
   "name": "Music_Genre_Classification_2.ipynb",
   "provenance": []
  },
  "kernelspec": {
   "display_name": "Python 3 (ipykernel)",
   "language": "python",
   "name": "python3"
  },
  "language_info": {
   "codemirror_mode": {
    "name": "ipython",
    "version": 3
   },
   "file_extension": ".py",
   "mimetype": "text/x-python",
   "name": "python",
   "nbconvert_exporter": "python",
   "pygments_lexer": "ipython3",
   "version": "3.10.7"
  }
 },
 "nbformat": 4,
 "nbformat_minor": 1
}
